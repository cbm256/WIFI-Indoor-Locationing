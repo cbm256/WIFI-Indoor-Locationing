{
 "cells": [
  {
   "cell_type": "code",
   "execution_count": 1,
   "metadata": {},
   "outputs": [],
   "source": [
    "# Load libraries\n",
    "import numpy as np\n",
    "import pandas as pd\n",
    "from matplotlib import pyplot\n",
    "from pandas import read_csv\n",
    "from pandas import set_option\n",
    "from pandas.plotting import scatter_matrix\n",
    "from sklearn.preprocessing import StandardScaler\n",
    "from sklearn.model_selection import train_test_split\n",
    "from sklearn.model_selection import KFold\n",
    "from sklearn.model_selection import cross_val_score\n",
    "from sklearn.model_selection import GridSearchCV\n",
    "from sklearn.metrics import classification_report\n",
    "from sklearn.metrics import confusion_matrix\n",
    "from sklearn.metrics import accuracy_score\n",
    "from sklearn.metrics import cohen_kappa_score\n",
    "from sklearn.pipeline import Pipeline\n",
    "from sklearn.linear_model import LogisticRegression\n",
    "from sklearn.tree import DecisionTreeClassifier\n",
    "from sklearn.neighbors import KNeighborsClassifier\n",
    "from sklearn.discriminant_analysis import LinearDiscriminantAnalysis\n",
    "from sklearn.naive_bayes import GaussianNB\n",
    "from sklearn.svm import SVC\n",
    "from sklearn.ensemble import AdaBoostClassifier\n",
    "from sklearn.ensemble import GradientBoostingClassifier\n",
    "from sklearn.ensemble import RandomForestClassifier\n",
    "from sklearn.ensemble import ExtraTreesClassifier\n",
    "\n",
    "import warnings\n",
    "warnings.filterwarnings('ignore')"
   ]
  },
  {
   "cell_type": "code",
   "execution_count": 2,
   "metadata": {},
   "outputs": [
    {
     "name": "stdout",
     "output_type": "stream",
     "text": [
      "(19937, 529)\n"
     ]
    }
   ],
   "source": [
    "#data\n",
    "dataset = pd.read_csv(\"trainingData.csv\")\n",
    "\n",
    "print(dataset.shape)"
   ]
  },
  {
   "cell_type": "code",
   "execution_count": 3,
   "metadata": {
    "scrolled": false
   },
   "outputs": [
    {
     "name": "stdout",
     "output_type": "stream",
     "text": [
      "WAP001                int64\n",
      "WAP002                int64\n",
      "WAP003                int64\n",
      "WAP004                int64\n",
      "WAP005                int64\n",
      "WAP006                int64\n",
      "WAP007                int64\n",
      "WAP008                int64\n",
      "WAP009                int64\n",
      "WAP010                int64\n",
      "WAP011                int64\n",
      "WAP012                int64\n",
      "                     ...   \n",
      "WAP518                int64\n",
      "WAP519                int64\n",
      "WAP520                int64\n",
      "LONGITUDE           float64\n",
      "LATITUDE            float64\n",
      "FLOOR                 int64\n",
      "BUILDINGID            int64\n",
      "SPACEID               int64\n",
      "RELATIVEPOSITION      int64\n",
      "USERID                int64\n",
      "PHONEID               int64\n",
      "TIMESTAMP             int64\n",
      "Length: 529, dtype: object\n"
     ]
    }
   ],
   "source": [
    "# types\n",
    "set_option('display.max_rows', 25) \n",
    "print(dataset.dtypes)"
   ]
  },
  {
   "cell_type": "code",
   "execution_count": 4,
   "metadata": {
    "scrolled": false
   },
   "outputs": [
    {
     "name": "stdout",
     "output_type": "stream",
     "text": [
      "    WAP001  WAP002  WAP003  WAP004  WAP005  WAP006  WAP007  WAP008  WAP009  WAP010     ...      \\\n",
      "0      100     100     100     100     100     100     100     100     100     100     ...       \n",
      "1      100     100     100     100     100     100     100     100     100     100     ...       \n",
      "2      100     100     100     100     100     100     100     -97     100     100     ...       \n",
      "3      100     100     100     100     100     100     100     100     100     100     ...       \n",
      "4      100     100     100     100     100     100     100     100     100     100     ...       \n",
      "5      100     100     100     100     100     100     100     100     100     100     ...       \n",
      "6      100     100     100     100     100     100     100     100     100     100     ...       \n",
      "7      100     100     100     100     100     100     100     100     100     100     ...       \n",
      "8      100     100     100     100     100     100     100     100     100     100     ...       \n",
      "9      100     100     100     100     100     100     100     100     100     100     ...       \n",
      "10     100     100     100     100     100     100     100     -83     100     100     ...       \n",
      "11     100     100     100     100     100     100     100     -90     100     100     ...       \n",
      "12     100     100     100     100     100     100     100     100     100     100     ...       \n",
      "13     100     100     100     100     100     100     100     100     100     100     ...       \n",
      "14     100     100     100     100     100     100     100     100     100     100     ...       \n",
      "15     100     100     100     100     100     100     100     100     100     100     ...       \n",
      "16     100     100     100     100     100     100     100     100     100     100     ...       \n",
      "17     100     100     100     100     100     100     100     100     100     100     ...       \n",
      "18     100     100     100     100     100     100     100     100     100     100     ...       \n",
      "19     100     100     100     100     100     100     100     100     100     100     ...       \n",
      "\n",
      "    WAP520    LONGITUDE      LATITUDE  FLOOR  BUILDINGID  SPACEID  RELATIVEPOSITION  USERID  \\\n",
      "0      100 -7541.264300  4.864921e+06      2           1      106                 2       2   \n",
      "1      100 -7536.621200  4.864934e+06      2           1      106                 2       2   \n",
      "2      100 -7519.152400  4.864950e+06      2           1      103                 2       2   \n",
      "3      100 -7524.570400  4.864934e+06      2           1      102                 2       2   \n",
      "4      100 -7632.143600  4.864982e+06      0           0      122                 2      11   \n",
      "5      100 -7533.896200  4.864939e+06      2           1      105                 2       2   \n",
      "6      100 -7519.152400  4.864950e+06      2           1      103                 2       2   \n",
      "7      100 -7527.451100  4.864929e+06      2           1      101                 2       2   \n",
      "8      100 -7559.497300  4.864888e+06      2           1      112                 2       2   \n",
      "9      100 -7510.437173  4.864949e+06      2           1      103                 1       2   \n",
      "10     100 -7528.816402  4.864959e+06      2           1      104                 1       2   \n",
      "11     100 -7523.628200  4.864952e+06      2           1      104                 2       2   \n",
      "12     100 -7571.093400  4.864872e+06      2           1      110                 2       2   \n",
      "13     100 -7559.782000  4.864871e+06      2           1      108                 2       2   \n",
      "14     100 -7562.186200  4.864867e+06      2           1      109                 2       2   \n",
      "15     100 -7564.196300  4.864887e+06      2           1      111                 2       2   \n",
      "16     100 -7555.132300  4.864885e+06      2           1      107                 2       2   \n",
      "17     100 -7520.724500  4.864892e+06      2           1       15                 2       2   \n",
      "18     100 -7521.867186  4.864889e+06      2           1       29                 1       2   \n",
      "19     100 -7537.339900  4.864896e+06      2           1      117                 2       2   \n",
      "\n",
      "    PHONEID   TIMESTAMP  \n",
      "0        23  1371713733  \n",
      "1        23  1371713691  \n",
      "2        23  1371714095  \n",
      "3        23  1371713807  \n",
      "4        13  1369909710  \n",
      "5        23  1371713841  \n",
      "6        23  1371713883  \n",
      "7        23  1371713775  \n",
      "8        23  1371714307  \n",
      "9        23  1371714128  \n",
      "10       23  1371714200  \n",
      "11       23  1371714166  \n",
      "12       23  1371714393  \n",
      "13       23  1371714467  \n",
      "14       23  1371714433  \n",
      "15       23  1371714355  \n",
      "16       23  1371714509  \n",
      "17       23  1371714730  \n",
      "18       23  1371714802  \n",
      "19       23  1371714556  \n",
      "\n",
      "[20 rows x 529 columns]\n"
     ]
    }
   ],
   "source": [
    "# head\n",
    "set_option('display.width', 100) \n",
    "print(dataset.head(20))"
   ]
  },
  {
   "cell_type": "code",
   "execution_count": 5,
   "metadata": {},
   "outputs": [
    {
     "data": {
      "text/html": [
       "<div>\n",
       "<style scoped>\n",
       "    .dataframe tbody tr th:only-of-type {\n",
       "        vertical-align: middle;\n",
       "    }\n",
       "\n",
       "    .dataframe tbody tr th {\n",
       "        vertical-align: top;\n",
       "    }\n",
       "\n",
       "    .dataframe thead th {\n",
       "        text-align: right;\n",
       "    }\n",
       "</style>\n",
       "<table border=\"1\" class=\"dataframe\">\n",
       "  <thead>\n",
       "    <tr style=\"text-align: right;\">\n",
       "      <th></th>\n",
       "      <th>FLOOR</th>\n",
       "      <th>BUILDINGID</th>\n",
       "      <th>SPACEID</th>\n",
       "      <th>RELATIVEPOSITION</th>\n",
       "      <th>USERID</th>\n",
       "      <th>PHONEID</th>\n",
       "    </tr>\n",
       "  </thead>\n",
       "  <tbody>\n",
       "    <tr>\n",
       "      <th>count</th>\n",
       "      <td>19937</td>\n",
       "      <td>19937</td>\n",
       "      <td>19937</td>\n",
       "      <td>19937</td>\n",
       "      <td>19937</td>\n",
       "      <td>19937</td>\n",
       "    </tr>\n",
       "    <tr>\n",
       "      <th>unique</th>\n",
       "      <td>5</td>\n",
       "      <td>3</td>\n",
       "      <td>123</td>\n",
       "      <td>2</td>\n",
       "      <td>18</td>\n",
       "      <td>16</td>\n",
       "    </tr>\n",
       "    <tr>\n",
       "      <th>top</th>\n",
       "      <td>3</td>\n",
       "      <td>2</td>\n",
       "      <td>202</td>\n",
       "      <td>2</td>\n",
       "      <td>11</td>\n",
       "      <td>14</td>\n",
       "    </tr>\n",
       "    <tr>\n",
       "      <th>freq</th>\n",
       "      <td>5048</td>\n",
       "      <td>9492</td>\n",
       "      <td>484</td>\n",
       "      <td>16608</td>\n",
       "      <td>4516</td>\n",
       "      <td>4835</td>\n",
       "    </tr>\n",
       "  </tbody>\n",
       "</table>\n",
       "</div>"
      ],
      "text/plain": [
       "        FLOOR BUILDINGID SPACEID RELATIVEPOSITION USERID PHONEID\n",
       "count   19937      19937   19937            19937  19937   19937\n",
       "unique      5          3     123                2     18      16\n",
       "top         3          2     202                2     11      14\n",
       "freq     5048       9492     484            16608   4516    4835"
      ]
     },
     "execution_count": 5,
     "metadata": {},
     "output_type": "execute_result"
    }
   ],
   "source": [
    "# Response variables in our problem are Building, Floor, Latitude, Longitude and Relative Position\n",
    "(dataset[['FLOOR','BUILDINGID', 'SPACEID','RELATIVEPOSITION','USERID','PHONEID']]\n",
    ".astype(str)\n",
    ".describe(include=['object']))"
   ]
  },
  {
   "cell_type": "markdown",
   "metadata": {},
   "source": [
    " Focusing on Floor BuildingID and SpaceID predicted on 520 WAPs on 3 buildings so delete other variables"
   ]
  },
  {
   "cell_type": "markdown",
   "metadata": {},
   "source": [
    "Remove features"
   ]
  },
  {
   "cell_type": "code",
   "execution_count": 6,
   "metadata": {},
   "outputs": [],
   "source": [
    "del dataset ['LONGITUDE']\n",
    "del dataset ['LATITUDE']\n",
    "del dataset ['RELATIVEPOSITION']\n",
    "del dataset ['USERID']\n",
    "del dataset ['PHONEID']\n",
    "del dataset ['TIMESTAMP']\n"
   ]
  },
  {
   "cell_type": "code",
   "execution_count": 7,
   "metadata": {},
   "outputs": [
    {
     "name": "stdout",
     "output_type": "stream",
     "text": [
      "WAP001        int64\n",
      "WAP002        int64\n",
      "WAP003        int64\n",
      "WAP004        int64\n",
      "WAP005        int64\n",
      "WAP006        int64\n",
      "WAP007        int64\n",
      "WAP008        int64\n",
      "WAP009        int64\n",
      "WAP010        int64\n",
      "WAP011        int64\n",
      "WAP012        int64\n",
      "              ...  \n",
      "WAP512        int64\n",
      "WAP513        int64\n",
      "WAP514        int64\n",
      "WAP515        int64\n",
      "WAP516        int64\n",
      "WAP517        int64\n",
      "WAP518        int64\n",
      "WAP519        int64\n",
      "WAP520        int64\n",
      "FLOOR         int64\n",
      "BUILDINGID    int64\n",
      "SPACEID       int64\n",
      "Length: 523, dtype: object\n"
     ]
    }
   ],
   "source": [
    "print(dataset.dtypes)"
   ]
  },
  {
   "cell_type": "code",
   "execution_count": 8,
   "metadata": {},
   "outputs": [
    {
     "name": "stdout",
     "output_type": "stream",
     "text": [
      "(19937, 523)\n"
     ]
    }
   ],
   "source": [
    "print(dataset.shape)"
   ]
  },
  {
   "cell_type": "code",
   "execution_count": 9,
   "metadata": {},
   "outputs": [
    {
     "data": {
      "image/png": "[encoded data removed]",
      "text/plain": [
       "<Figure size 432x288 with 1 Axes>"
      ]
     },
     "metadata": {},
     "output_type": "display_data"
    }
   ],
   "source": [
    "pyplot.hist(dataset['BUILDINGID'])\n",
    "pyplot.show()\n",
    "\n"
   ]
  },
  {
   "cell_type": "code",
   "execution_count": 10,
   "metadata": {},
   "outputs": [
    {
     "data": {
      "image/png": "[encoded data removed]",
      "text/plain": [
       "<Figure size 432x288 with 1 Axes>"
      ]
     },
     "metadata": {},
     "output_type": "display_data"
    }
   ],
   "source": [
    "pyplot.hist(dataset['FLOOR'])\n",
    "pyplot.show()"
   ]
  },
  {
   "cell_type": "code",
   "execution_count": 11,
   "metadata": {},
   "outputs": [
    {
     "data": {
      "image/png": "[encoded data removed]",
      "text/plain": [
       "<Figure size 432x288 with 1 Axes>"
      ]
     },
     "metadata": {},
     "output_type": "display_data"
    }
   ],
   "source": [
    "pyplot.hist(dataset['SPACEID'])\n",
    "pyplot.show()"
   ]
  },
  {
   "cell_type": "code",
   "execution_count": 12,
   "metadata": {},
   "outputs": [
    {
     "name": "stdout",
     "output_type": "stream",
     "text": [
      "Summary of feature sample\n"
     ]
    },
    {
     "data": {
      "text/html": [
       "<div>\n",
       "<style scoped>\n",
       "    .dataframe tbody tr th:only-of-type {\n",
       "        vertical-align: middle;\n",
       "    }\n",
       "\n",
       "    .dataframe tbody tr th {\n",
       "        vertical-align: top;\n",
       "    }\n",
       "\n",
       "    .dataframe thead th {\n",
       "        text-align: right;\n",
       "    }\n",
       "</style>\n",
       "<table border=\"1\" class=\"dataframe\">\n",
       "  <thead>\n",
       "    <tr style=\"text-align: right;\">\n",
       "      <th></th>\n",
       "      <th>WAP001</th>\n",
       "      <th>WAP002</th>\n",
       "      <th>WAP003</th>\n",
       "      <th>WAP004</th>\n",
       "      <th>WAP005</th>\n",
       "      <th>WAP006</th>\n",
       "      <th>WAP007</th>\n",
       "      <th>WAP008</th>\n",
       "      <th>WAP009</th>\n",
       "      <th>WAP010</th>\n",
       "      <th>...</th>\n",
       "      <th>WAP511</th>\n",
       "      <th>WAP512</th>\n",
       "      <th>WAP513</th>\n",
       "      <th>WAP514</th>\n",
       "      <th>WAP515</th>\n",
       "      <th>WAP516</th>\n",
       "      <th>WAP517</th>\n",
       "      <th>WAP518</th>\n",
       "      <th>WAP519</th>\n",
       "      <th>WAP520</th>\n",
       "    </tr>\n",
       "  </thead>\n",
       "  <tbody>\n",
       "    <tr>\n",
       "      <th>0</th>\n",
       "      <td>100</td>\n",
       "      <td>100</td>\n",
       "      <td>100</td>\n",
       "      <td>100</td>\n",
       "      <td>100</td>\n",
       "      <td>100</td>\n",
       "      <td>100</td>\n",
       "      <td>100</td>\n",
       "      <td>100</td>\n",
       "      <td>100</td>\n",
       "      <td>...</td>\n",
       "      <td>100</td>\n",
       "      <td>100</td>\n",
       "      <td>100</td>\n",
       "      <td>100</td>\n",
       "      <td>100</td>\n",
       "      <td>100</td>\n",
       "      <td>100</td>\n",
       "      <td>100</td>\n",
       "      <td>100</td>\n",
       "      <td>100</td>\n",
       "    </tr>\n",
       "    <tr>\n",
       "      <th>1</th>\n",
       "      <td>100</td>\n",
       "      <td>100</td>\n",
       "      <td>100</td>\n",
       "      <td>100</td>\n",
       "      <td>100</td>\n",
       "      <td>100</td>\n",
       "      <td>100</td>\n",
       "      <td>100</td>\n",
       "      <td>100</td>\n",
       "      <td>100</td>\n",
       "      <td>...</td>\n",
       "      <td>100</td>\n",
       "      <td>100</td>\n",
       "      <td>100</td>\n",
       "      <td>100</td>\n",
       "      <td>100</td>\n",
       "      <td>100</td>\n",
       "      <td>100</td>\n",
       "      <td>100</td>\n",
       "      <td>100</td>\n",
       "      <td>100</td>\n",
       "    </tr>\n",
       "    <tr>\n",
       "      <th>2</th>\n",
       "      <td>100</td>\n",
       "      <td>100</td>\n",
       "      <td>100</td>\n",
       "      <td>100</td>\n",
       "      <td>100</td>\n",
       "      <td>100</td>\n",
       "      <td>100</td>\n",
       "      <td>-97</td>\n",
       "      <td>100</td>\n",
       "      <td>100</td>\n",
       "      <td>...</td>\n",
       "      <td>100</td>\n",
       "      <td>100</td>\n",
       "      <td>100</td>\n",
       "      <td>100</td>\n",
       "      <td>100</td>\n",
       "      <td>100</td>\n",
       "      <td>100</td>\n",
       "      <td>100</td>\n",
       "      <td>100</td>\n",
       "      <td>100</td>\n",
       "    </tr>\n",
       "    <tr>\n",
       "      <th>3</th>\n",
       "      <td>100</td>\n",
       "      <td>100</td>\n",
       "      <td>100</td>\n",
       "      <td>100</td>\n",
       "      <td>100</td>\n",
       "      <td>100</td>\n",
       "      <td>100</td>\n",
       "      <td>100</td>\n",
       "      <td>100</td>\n",
       "      <td>100</td>\n",
       "      <td>...</td>\n",
       "      <td>100</td>\n",
       "      <td>100</td>\n",
       "      <td>100</td>\n",
       "      <td>100</td>\n",
       "      <td>100</td>\n",
       "      <td>100</td>\n",
       "      <td>100</td>\n",
       "      <td>100</td>\n",
       "      <td>100</td>\n",
       "      <td>100</td>\n",
       "    </tr>\n",
       "    <tr>\n",
       "      <th>4</th>\n",
       "      <td>100</td>\n",
       "      <td>100</td>\n",
       "      <td>100</td>\n",
       "      <td>100</td>\n",
       "      <td>100</td>\n",
       "      <td>100</td>\n",
       "      <td>100</td>\n",
       "      <td>100</td>\n",
       "      <td>100</td>\n",
       "      <td>100</td>\n",
       "      <td>...</td>\n",
       "      <td>100</td>\n",
       "      <td>100</td>\n",
       "      <td>100</td>\n",
       "      <td>100</td>\n",
       "      <td>100</td>\n",
       "      <td>100</td>\n",
       "      <td>100</td>\n",
       "      <td>100</td>\n",
       "      <td>100</td>\n",
       "      <td>100</td>\n",
       "    </tr>\n",
       "  </tbody>\n",
       "</table>\n",
       "<p>5 rows × 520 columns</p>\n",
       "</div>"
      ],
      "text/plain": [
       "   WAP001  WAP002  WAP003  WAP004  WAP005  WAP006  WAP007  WAP008  WAP009  WAP010   ...    WAP511  \\\n",
       "0     100     100     100     100     100     100     100     100     100     100   ...       100   \n",
       "1     100     100     100     100     100     100     100     100     100     100   ...       100   \n",
       "2     100     100     100     100     100     100     100     -97     100     100   ...       100   \n",
       "3     100     100     100     100     100     100     100     100     100     100   ...       100   \n",
       "4     100     100     100     100     100     100     100     100     100     100   ...       100   \n",
       "\n",
       "   WAP512  WAP513  WAP514  WAP515  WAP516  WAP517  WAP518  WAP519  WAP520  \n",
       "0     100     100     100     100     100     100     100     100     100  \n",
       "1     100     100     100     100     100     100     100     100     100  \n",
       "2     100     100     100     100     100     100     100     100     100  \n",
       "3     100     100     100     100     100     100     100     100     100  \n",
       "4     100     100     100     100     100     100     100     100     100  \n",
       "\n",
       "[5 rows x 520 columns]"
      ]
     },
     "execution_count": 12,
     "metadata": {},
     "output_type": "execute_result"
    }
   ],
   "source": [
    "#features\n",
    "features = dataset.iloc[:,0:520]\n",
    "print('Summary of feature sample')\n",
    "features.head()"
   ]
  },
  {
   "cell_type": "code",
   "execution_count": 13,
   "metadata": {},
   "outputs": [
    {
     "data": {
      "text/plain": [
       "0    106\n",
       "1    106\n",
       "2    103\n",
       "3    102\n",
       "4    122\n",
       "Name: SPACEID, dtype: int64"
      ]
     },
     "execution_count": 13,
     "metadata": {},
     "output_type": "execute_result"
    }
   ],
   "source": [
    "#dependent variable\n",
    "depVar = dataset['SPACEID']\n",
    "depVar.head()"
   ]
  },
  {
   "cell_type": "code",
   "execution_count": 14,
   "metadata": {},
   "outputs": [
    {
     "data": {
      "text/html": [
       "<div>\n",
       "<style scoped>\n",
       "    .dataframe tbody tr th:only-of-type {\n",
       "        vertical-align: middle;\n",
       "    }\n",
       "\n",
       "    .dataframe tbody tr th {\n",
       "        vertical-align: top;\n",
       "    }\n",
       "\n",
       "    .dataframe thead th {\n",
       "        text-align: right;\n",
       "    }\n",
       "</style>\n",
       "<table border=\"1\" class=\"dataframe\">\n",
       "  <thead>\n",
       "    <tr style=\"text-align: right;\">\n",
       "      <th></th>\n",
       "      <th>WAP001</th>\n",
       "      <th>WAP002</th>\n",
       "      <th>WAP003</th>\n",
       "      <th>WAP004</th>\n",
       "      <th>WAP005</th>\n",
       "      <th>WAP006</th>\n",
       "      <th>WAP007</th>\n",
       "      <th>WAP008</th>\n",
       "      <th>WAP009</th>\n",
       "      <th>WAP010</th>\n",
       "      <th>...</th>\n",
       "      <th>WAP511</th>\n",
       "      <th>WAP512</th>\n",
       "      <th>WAP513</th>\n",
       "      <th>WAP514</th>\n",
       "      <th>WAP515</th>\n",
       "      <th>WAP516</th>\n",
       "      <th>WAP517</th>\n",
       "      <th>WAP518</th>\n",
       "      <th>WAP519</th>\n",
       "      <th>WAP520</th>\n",
       "    </tr>\n",
       "  </thead>\n",
       "  <tbody>\n",
       "    <tr>\n",
       "      <th>0</th>\n",
       "      <td>100</td>\n",
       "      <td>100</td>\n",
       "      <td>100</td>\n",
       "      <td>100</td>\n",
       "      <td>100</td>\n",
       "      <td>100</td>\n",
       "      <td>100</td>\n",
       "      <td>100</td>\n",
       "      <td>100</td>\n",
       "      <td>100</td>\n",
       "      <td>...</td>\n",
       "      <td>100</td>\n",
       "      <td>100</td>\n",
       "      <td>100</td>\n",
       "      <td>100</td>\n",
       "      <td>100</td>\n",
       "      <td>100</td>\n",
       "      <td>100</td>\n",
       "      <td>100</td>\n",
       "      <td>100</td>\n",
       "      <td>100</td>\n",
       "    </tr>\n",
       "    <tr>\n",
       "      <th>1</th>\n",
       "      <td>100</td>\n",
       "      <td>100</td>\n",
       "      <td>100</td>\n",
       "      <td>100</td>\n",
       "      <td>100</td>\n",
       "      <td>100</td>\n",
       "      <td>100</td>\n",
       "      <td>100</td>\n",
       "      <td>100</td>\n",
       "      <td>100</td>\n",
       "      <td>...</td>\n",
       "      <td>100</td>\n",
       "      <td>100</td>\n",
       "      <td>100</td>\n",
       "      <td>100</td>\n",
       "      <td>100</td>\n",
       "      <td>100</td>\n",
       "      <td>100</td>\n",
       "      <td>100</td>\n",
       "      <td>100</td>\n",
       "      <td>100</td>\n",
       "    </tr>\n",
       "    <tr>\n",
       "      <th>2</th>\n",
       "      <td>100</td>\n",
       "      <td>100</td>\n",
       "      <td>100</td>\n",
       "      <td>100</td>\n",
       "      <td>100</td>\n",
       "      <td>100</td>\n",
       "      <td>100</td>\n",
       "      <td>-97</td>\n",
       "      <td>100</td>\n",
       "      <td>100</td>\n",
       "      <td>...</td>\n",
       "      <td>100</td>\n",
       "      <td>100</td>\n",
       "      <td>100</td>\n",
       "      <td>100</td>\n",
       "      <td>100</td>\n",
       "      <td>100</td>\n",
       "      <td>100</td>\n",
       "      <td>100</td>\n",
       "      <td>100</td>\n",
       "      <td>100</td>\n",
       "    </tr>\n",
       "    <tr>\n",
       "      <th>3</th>\n",
       "      <td>100</td>\n",
       "      <td>100</td>\n",
       "      <td>100</td>\n",
       "      <td>100</td>\n",
       "      <td>100</td>\n",
       "      <td>100</td>\n",
       "      <td>100</td>\n",
       "      <td>100</td>\n",
       "      <td>100</td>\n",
       "      <td>100</td>\n",
       "      <td>...</td>\n",
       "      <td>100</td>\n",
       "      <td>100</td>\n",
       "      <td>100</td>\n",
       "      <td>100</td>\n",
       "      <td>100</td>\n",
       "      <td>100</td>\n",
       "      <td>100</td>\n",
       "      <td>100</td>\n",
       "      <td>100</td>\n",
       "      <td>100</td>\n",
       "    </tr>\n",
       "    <tr>\n",
       "      <th>4</th>\n",
       "      <td>100</td>\n",
       "      <td>100</td>\n",
       "      <td>100</td>\n",
       "      <td>100</td>\n",
       "      <td>100</td>\n",
       "      <td>100</td>\n",
       "      <td>100</td>\n",
       "      <td>100</td>\n",
       "      <td>100</td>\n",
       "      <td>100</td>\n",
       "      <td>...</td>\n",
       "      <td>100</td>\n",
       "      <td>100</td>\n",
       "      <td>100</td>\n",
       "      <td>100</td>\n",
       "      <td>100</td>\n",
       "      <td>100</td>\n",
       "      <td>100</td>\n",
       "      <td>100</td>\n",
       "      <td>100</td>\n",
       "      <td>100</td>\n",
       "    </tr>\n",
       "  </tbody>\n",
       "</table>\n",
       "<p>5 rows × 520 columns</p>\n",
       "</div>"
      ],
      "text/plain": [
       "   WAP001  WAP002  WAP003  WAP004  WAP005  WAP006  WAP007  WAP008  WAP009  WAP010   ...    WAP511  \\\n",
       "0     100     100     100     100     100     100     100     100     100     100   ...       100   \n",
       "1     100     100     100     100     100     100     100     100     100     100   ...       100   \n",
       "2     100     100     100     100     100     100     100     -97     100     100   ...       100   \n",
       "3     100     100     100     100     100     100     100     100     100     100   ...       100   \n",
       "4     100     100     100     100     100     100     100     100     100     100   ...       100   \n",
       "\n",
       "   WAP512  WAP513  WAP514  WAP515  WAP516  WAP517  WAP518  WAP519  WAP520  \n",
       "0     100     100     100     100     100     100     100     100     100  \n",
       "1     100     100     100     100     100     100     100     100     100  \n",
       "2     100     100     100     100     100     100     100     100     100  \n",
       "3     100     100     100     100     100     100     100     100     100  \n",
       "4     100     100     100     100     100     100     100     100     100  \n",
       "\n",
       "[5 rows x 520 columns]"
      ]
     },
     "execution_count": 14,
     "metadata": {},
     "output_type": "execute_result"
    }
   ],
   "source": [
    "#Training Set (Feature Space: X Training)\n",
    "X_train = (features[: 1000])\n",
    "X_train.head()"
   ]
  },
  {
   "cell_type": "code",
   "execution_count": 15,
   "metadata": {},
   "outputs": [
    {
     "name": "stdout",
     "output_type": "stream",
     "text": [
      "The number of observations in the Y training set are: 1000\n"
     ]
    },
    {
     "data": {
      "text/plain": [
       "0    106\n",
       "1    106\n",
       "2    103\n",
       "3    102\n",
       "4    122\n",
       "Name: SPACEID, dtype: int64"
      ]
     },
     "execution_count": 15,
     "metadata": {},
     "output_type": "execute_result"
    }
   ],
   "source": [
    "#Dependent Variable Training Set (Y Training)\n",
    "Y_train = depVar[: 1000]\n",
    "Y_train_count = len(Y_train.index)\n",
    "print('The number of observations in the Y training set are:',str(Y_train_count))\n",
    "Y_train.head()"
   ]
  },
  {
   "cell_type": "code",
   "execution_count": 16,
   "metadata": {},
   "outputs": [
    {
     "name": "stdout",
     "output_type": "stream",
     "text": [
      "The number of observations in the feature testing set is: 300\n",
      "       WAP001  WAP002  WAP003  WAP004  WAP005  WAP006  WAP007  WAP008  WAP009  WAP010   ...    \\\n",
      "19637     100     100     100     100     100     100     100     100     100     100   ...     \n",
      "19638     100     100     100     100     100     100     100     100     100     100   ...     \n",
      "19639     100     100     100     100     100     100     100     100     100     100   ...     \n",
      "19640     100     100     100     100     100     100     100     100     100     100   ...     \n",
      "19641     100     100     100     100     100     100     100     100     100     100   ...     \n",
      "\n",
      "       WAP511  WAP512  WAP513  WAP514  WAP515  WAP516  WAP517  WAP518  WAP519  WAP520  \n",
      "19637     100     100     100     100     100     100     100     100     100     100  \n",
      "19638     100     100     100     100     100     100     100     100     100     100  \n",
      "19639     100     100     100     100     100     100     100     100     100     100  \n",
      "19640     100     100     100     100     100     100     100     100     100     100  \n",
      "19641     100     100     100     100     100     100     100     100     100     100  \n",
      "\n",
      "[5 rows x 520 columns]\n"
     ]
    }
   ],
   "source": [
    "#Testing Set (X Testing)\n",
    "X_test = features[-300:]\n",
    "X_test_count = len(X_test.index)\n",
    "print('The number of observations in the feature testing set is:',str(X_test_count))\n",
    "print(X_test.head())"
   ]
  },
  {
   "cell_type": "code",
   "execution_count": 17,
   "metadata": {},
   "outputs": [
    {
     "name": "stdout",
     "output_type": "stream",
     "text": [
      "The number of observations in the Y training set are: 300\n"
     ]
    },
    {
     "data": {
      "text/plain": [
       "19637    116\n",
       "19638    102\n",
       "19639    102\n",
       "19640    104\n",
       "19641    104\n",
       "Name: SPACEID, dtype: int64"
      ]
     },
     "execution_count": 17,
     "metadata": {},
     "output_type": "execute_result"
    }
   ],
   "source": [
    "#Ground Truth (y_test) \n",
    "Y_test = depVar[-300:]\n",
    "Y_test_count = len(Y_test.index)\n",
    "print('The number of observations in the Y training set are:',str(Y_test_count))\n",
    "Y_test.head()"
   ]
  },
  {
   "cell_type": "code",
   "execution_count": 18,
   "metadata": {},
   "outputs": [
    {
     "data": {
      "text/plain": [
       "((750, 520), (250, 520))"
      ]
     },
     "execution_count": 18,
     "metadata": {},
     "output_type": "execute_result"
    }
   ],
   "source": [
    "# Split-out validation dataset\n",
    "X_train, X_test, Y_train, Y_test = train_test_split(X_train, Y_train)\n",
    "X_train.shape, X_test.shape"
   ]
  },
  {
   "cell_type": "markdown",
   "metadata": {},
   "source": [
    "# Use 10-fold cross validation to estimate accuracy."
   ]
  },
  {
   "cell_type": "code",
   "execution_count": 19,
   "metadata": {},
   "outputs": [],
   "source": [
    "# Test options and evaluation metric\n",
    "num_folds = 10\n",
    "seed = 7\n",
    "scoring = 'accuracy'"
   ]
  },
  {
   "cell_type": "markdown",
   "metadata": {},
   "source": [
    "# Build Models. Evaluate six algorithms including simple linear(LR and LDA) and 4 nonlinear."
   ]
  },
  {
   "cell_type": "code",
   "execution_count": 20,
   "metadata": {},
   "outputs": [],
   "source": [
    "# Spot-Check Algorithms\n",
    "models = []\n",
    "models.append(('LR', LogisticRegression())) \n",
    "models.append(('LDA', LinearDiscriminantAnalysis())) \n",
    "models.append(('KNN', KNeighborsClassifier())) \n",
    "models.append(('CART', DecisionTreeClassifier())) \n",
    "models.append(('NB', GaussianNB())) \n",
    "models.append(('SVM', SVC()))"
   ]
  },
  {
   "cell_type": "markdown",
   "metadata": {},
   "source": [
    "# Train suite of algorithms and select best models. "
   ]
  },
  {
   "cell_type": "code",
   "execution_count": 21,
   "metadata": {},
   "outputs": [
    {
     "name": "stdout",
     "output_type": "stream",
     "text": [
      "LR: 0.605333 (0.048148)\n",
      "LDA: 0.592000 (0.070098)\n",
      "KNN: 0.564000 (0.036295)\n",
      "CART: 0.604000 (0.048826)\n",
      "NB: 0.634667 (0.045490)\n",
      "SVM: 0.062667 (0.027358)\n"
     ]
    }
   ],
   "source": [
    "results = []\n",
    "names = []\n",
    "for name, model in models:\n",
    "  kfold = KFold(n_splits=num_folds, random_state=seed)\n",
    "  cv_results = cross_val_score(model, X_train, Y_train, cv=kfold, scoring=scoring)\n",
    "  results.append(cv_results)\n",
    "  names.append(name)\n",
    "  msg = \"%s: %f (%f)\" % (name, cv_results.mean(), cv_results.std())\n",
    "  print(msg)"
   ]
  },
  {
   "cell_type": "code",
   "execution_count": 22,
   "metadata": {},
   "outputs": [
    {
     "data": {
      "image/png": "[encoded data removed]",
      "text/plain": [
       "<Figure size 432x288 with 1 Axes>"
      ]
     },
     "metadata": {},
     "output_type": "display_data"
    }
   ],
   "source": [
    "# Compare Algorithms\n",
    "fig = pyplot.figure() \n",
    "fig.suptitle('Algorithm Comparison') \n",
    "ax = fig.add_subplot(111) \n",
    "pyplot.boxplot(results) \n",
    "ax.set_xticklabels(names)\n",
    "pyplot.show()"
   ]
  },
  {
   "cell_type": "markdown",
   "metadata": {},
   "source": [
    "# Stardardize dataset and rerun algorithms to evaluate improvement."
   ]
  },
  {
   "cell_type": "code",
   "execution_count": 23,
   "metadata": {
    "scrolled": true
   },
   "outputs": [
    {
     "name": "stdout",
     "output_type": "stream",
     "text": [
      "ScaledLR: 0.634667 (0.043081)\n",
      "ScaledLDA: 0.485333 (0.241933)\n",
      "ScaledKNN: 0.513333 (0.050684)\n",
      "ScaledCART: 0.602667 (0.054910)\n",
      "ScaledNB: 0.613333 (0.040000)\n",
      "ScaledSVM: 0.381333 (0.045879)\n"
     ]
    }
   ],
   "source": [
    "# Standardize the dataset\n",
    "pipelines = []\n",
    "pipelines.append(('ScaledLR', Pipeline([('Scaler', StandardScaler()),('LR', LogisticRegression())])))\n",
    "pipelines.append(('ScaledLDA', Pipeline([('Scaler', StandardScaler()),('LDA', LinearDiscriminantAnalysis())])))\n",
    "pipelines.append(('ScaledKNN', Pipeline([('Scaler', StandardScaler()),('KNN', KNeighborsClassifier())])))\n",
    "pipelines.append(('ScaledCART', Pipeline([('Scaler', StandardScaler()),('CART', DecisionTreeClassifier())])))\n",
    "pipelines.append(('ScaledNB', Pipeline([('Scaler', StandardScaler()),('NB', GaussianNB())])))\n",
    "pipelines.append(('ScaledSVM', Pipeline([('Scaler', StandardScaler()),('SVM', SVC())]))) \n",
    "results = []\n",
    "names = []\n",
    "for name, model in pipelines:\n",
    "  kfold = KFold(n_splits=num_folds, random_state=seed)\n",
    "  cv_results = cross_val_score(model, X_train, Y_train, cv=kfold, scoring=scoring)\n",
    "  results.append(cv_results)\n",
    "  names.append(name)\n",
    "  msg = \"%s: %f (%f)\" % (name, cv_results.mean(), cv_results.std())\n",
    "  print(msg)"
   ]
  },
  {
   "cell_type": "code",
   "execution_count": 24,
   "metadata": {},
   "outputs": [
    {
     "data": {
      "image/png": "[encoded data removed]",
      "text/plain": [
       "<Figure size 432x288 with 1 Axes>"
      ]
     },
     "metadata": {},
     "output_type": "display_data"
    }
   ],
   "source": [
    "# Compare Algorithms\n",
    "fig = pyplot.figure()\n",
    "fig.suptitle('Scaled Algorithm Comparison') \n",
    "ax = fig.add_subplot(111) \n",
    "pyplot.boxplot(results) \n",
    "ax.set_xticklabels(names)\n",
    "pyplot.show()"
   ]
  },
  {
   "cell_type": "markdown",
   "metadata": {},
   "source": [
    "Tune a couple of algorithms to see if results improve."
   ]
  },
  {
   "cell_type": "code",
   "execution_count": 25,
   "metadata": {},
   "outputs": [
    {
     "name": "stdout",
     "output_type": "stream",
     "text": [
      "Best: 0.640000 using {'n_neighbors': 1}\n",
      "0.640000 (0.042583) with: {'n_neighbors': 1}\n",
      "0.329333 (0.047347) with: {'n_neighbors': 15}\n",
      "0.282667 (0.035678) with: {'n_neighbors': 21}\n",
      "0.252000 (0.051450) with: {'n_neighbors': 25}\n"
     ]
    }
   ],
   "source": [
    "# Tune scaled KNN\n",
    "scaler = StandardScaler().fit(X_train)\n",
    "rescaledX = scaler.transform(X_train)\n",
    "neighbors = [1,15,21,25]\n",
    "param_grid = dict(n_neighbors=neighbors)\n",
    "model = KNeighborsClassifier()\n",
    "kfold = KFold(n_splits=num_folds, random_state=seed)\n",
    "grid = GridSearchCV(estimator=model, param_grid=param_grid, scoring=scoring, cv=kfold)\n",
    "grid_result = grid.fit(rescaledX, Y_train)\n",
    "print(\"Best: %f using %s\" % (grid_result.best_score_, grid_result.best_params_))\n",
    "means = grid_result.cv_results_['mean_test_score'] \n",
    "stds = grid_result.cv_results_['std_test_score'] \n",
    "params = grid_result.cv_results_['params']\n",
    "for mean, stdev, param in zip(means, stds, params):\n",
    "    print(\"%f (%f) with: %r\" % (mean, stdev, param))"
   ]
  },
  {
   "cell_type": "code",
   "execution_count": 26,
   "metadata": {
    "scrolled": false
   },
   "outputs": [
    {
     "name": "stdout",
     "output_type": "stream",
     "text": [
      "Best: 0.644000 using {'C': 0.1, 'kernel': 'linear'}\n",
      "0.644000 (0.038204) with: {'C': 0.1, 'kernel': 'linear'}\n",
      "0.049333 (0.023132) with: {'C': 0.1, 'kernel': 'poly'}\n",
      "0.034667 (0.016000) with: {'C': 0.1, 'kernel': 'rbf'}\n",
      "0.038667 (0.016275) with: {'C': 0.1, 'kernel': 'sigmoid'}\n",
      "0.638667 (0.040200) with: {'C': 0.5, 'kernel': 'linear'}\n",
      "0.069333 (0.017689) with: {'C': 0.5, 'kernel': 'poly'}\n",
      "0.248000 (0.034358) with: {'C': 0.5, 'kernel': 'rbf'}\n",
      "0.173333 (0.027968) with: {'C': 0.5, 'kernel': 'sigmoid'}\n",
      "0.638667 (0.041505) with: {'C': 1.0, 'kernel': 'linear'}\n",
      "0.097333 (0.020699) with: {'C': 1.0, 'kernel': 'poly'}\n",
      "0.368000 (0.047777) with: {'C': 1.0, 'kernel': 'rbf'}\n",
      "0.285333 (0.031098) with: {'C': 1.0, 'kernel': 'sigmoid'}\n",
      "0.637333 (0.039010) with: {'C': 1.5, 'kernel': 'linear'}\n",
      "0.118667 (0.026297) with: {'C': 1.5, 'kernel': 'poly'}\n",
      "0.446667 (0.052747) with: {'C': 1.5, 'kernel': 'rbf'}\n",
      "0.341333 (0.050315) with: {'C': 1.5, 'kernel': 'sigmoid'}\n"
     ]
    }
   ],
   "source": [
    "# Tune scaled SVM\n",
    "scaler = StandardScaler().fit(X_train)\n",
    "rescaledX = scaler.transform(X_train)\n",
    "c_values = [0.1, 0.5, 1.0, 1.5]\n",
    "kernel_values = ['linear', 'poly','rbf', 'sigmoid']\n",
    "param_grid = dict(C=c_values, kernel=kernel_values)\n",
    "model = SVC()\n",
    "kfold = KFold(n_splits=num_folds, random_state=seed)\n",
    "grid = GridSearchCV(estimator=model, param_grid=param_grid, scoring=scoring, cv=kfold) \n",
    "grid_result = grid.fit(rescaledX, Y_train)\n",
    "print(\"Best: %f using %s\" % (grid_result.best_score_, grid_result.best_params_))\n",
    "means = grid_result.cv_results_['mean_test_score']\n",
    "stds = grid_result.cv_results_['std_test_score']\n",
    "params = grid_result.cv_results_['params']\n",
    "for mean, stdev, param in zip(means, stds, params):\n",
    "    print(\"%f (%f) with: %r\" % (mean, stdev, param))"
   ]
  },
  {
   "cell_type": "markdown",
   "metadata": {},
   "source": [
    "# Train ensembles and compare"
   ]
  },
  {
   "cell_type": "code",
   "execution_count": 27,
   "metadata": {},
   "outputs": [
    {
     "name": "stdout",
     "output_type": "stream",
     "text": [
      "AB: 0.096000 (0.058667)\n",
      "GBM: 0.570667 (0.044939)\n",
      "RF: 0.752000 (0.043492)\n"
     ]
    }
   ],
   "source": [
    "# ensembles\n",
    "ensembles = []\n",
    "ensembles.append(('AB', AdaBoostClassifier())) \n",
    "ensembles.append(('GBM', GradientBoostingClassifier())) \n",
    "ensembles.append(('RF', RandomForestClassifier())) \n",
    "results = []\n",
    "names = []\n",
    "for name, model in ensembles:\n",
    "  kfold = KFold(n_splits=num_folds, random_state=seed)\n",
    "  cv_results = cross_val_score(model, X_train, Y_train, cv=kfold, scoring=scoring)\n",
    "  results.append(cv_results)\n",
    "  names.append(name)\n",
    "  msg = \"%s: %f (%f)\" % (name, cv_results.mean(), cv_results.std())\n",
    "  print(msg)"
   ]
  },
  {
   "cell_type": "code",
   "execution_count": 28,
   "metadata": {},
   "outputs": [
    {
     "data": {
      "image/png": "[encoded data removed]",
      "text/plain": [
       "<Figure size 432x288 with 1 Axes>"
      ]
     },
     "metadata": {},
     "output_type": "display_data"
    }
   ],
   "source": [
    "# Compare Algorithms\n",
    "fig = pyplot.figure()\n",
    "fig.suptitle('Ensemble Algorithm Comparison') \n",
    "ax = fig.add_subplot(111) \n",
    "pyplot.boxplot(results) \n",
    "ax.set_xticklabels(names)\n",
    "pyplot.show()"
   ]
  },
  {
   "cell_type": "markdown",
   "metadata": {},
   "source": [
    "# Make Predictions"
   ]
  },
  {
   "cell_type": "code",
   "execution_count": 39,
   "metadata": {},
   "outputs": [
    {
     "name": "stdout",
     "output_type": "stream",
     "text": [
      "Accuracy: 0.700\n",
      "[[4 0 0 ... 0 0 0]\n",
      " [1 3 0 ... 0 0 0]\n",
      " [1 0 1 ... 0 0 0]\n",
      " ...\n",
      " [0 0 0 ... 3 0 0]\n",
      " [0 0 0 ... 0 6 0]\n",
      " [0 0 0 ... 0 0 3]]\n",
      "              precision    recall  f1-score   support\n",
      "\n",
      "           2       0.67      0.80      0.73         5\n",
      "           3       1.00      0.60      0.75         5\n",
      "           4       1.00      0.50      0.67         2\n",
      "           5       1.00      1.00      1.00         2\n",
      "           6       0.00      0.00      0.00         1\n",
      "           7       0.67      1.00      0.80         2\n",
      "           8       0.50      1.00      0.67         1\n",
      "           9       1.00      0.67      0.80         3\n",
      "          10       1.00      1.00      1.00         1\n",
      "          15       1.00      0.50      0.67         8\n",
      "          16       0.57      0.80      0.67         5\n",
      "          17       0.75      1.00      0.86         3\n",
      "          18       0.83      1.00      0.91         5\n",
      "          22       1.00      1.00      1.00         3\n",
      "          26       1.00      1.00      1.00         1\n",
      "          27       1.00      1.00      1.00         2\n",
      "          28       1.00      0.50      0.67         4\n",
      "          29       0.33      1.00      0.50         2\n",
      "         101       0.40      0.67      0.50         3\n",
      "         102       1.00      0.33      0.50         3\n",
      "         103       1.00      0.71      0.83         7\n",
      "         104       1.00      1.00      1.00         6\n",
      "         105       0.33      1.00      0.50         1\n",
      "         106       0.75      0.75      0.75         4\n",
      "         107       1.00      0.60      0.75         5\n",
      "         108       0.60      1.00      0.75         3\n",
      "         111       1.00      0.75      0.86         4\n",
      "         112       0.75      1.00      0.86         3\n",
      "         117       1.00      1.00      1.00         3\n",
      "         121       0.00      0.00      0.00         1\n",
      "         122       0.00      0.00      0.00         0\n",
      "         201       0.50      0.56      0.53         9\n",
      "         202       0.50      0.67      0.57         3\n",
      "         203       0.67      1.00      0.80         2\n",
      "         204       1.00      0.50      0.67         2\n",
      "         205       1.00      0.33      0.50         3\n",
      "         206       1.00      1.00      1.00         2\n",
      "         208       1.00      1.00      1.00         1\n",
      "         209       1.00      0.25      0.40         4\n",
      "         210       0.50      0.50      0.50         2\n",
      "         211       0.50      0.67      0.57         3\n",
      "         212       1.00      1.00      1.00         1\n",
      "         213       1.00      0.50      0.67         4\n",
      "         214       0.67      1.00      0.80         2\n",
      "         215       0.18      1.00      0.31         2\n",
      "         216       1.00      0.62      0.77         8\n",
      "         217       0.88      1.00      0.93         7\n",
      "         218       1.00      1.00      1.00         1\n",
      "         219       0.50      1.00      0.67         1\n",
      "         220       0.50      0.33      0.40         3\n",
      "         221       1.00      1.00      1.00         2\n",
      "         222       0.75      1.00      0.86         3\n",
      "         223       0.50      0.62      0.56         8\n",
      "         224       1.00      0.50      0.67         4\n",
      "         225       0.50      1.00      0.67         1\n",
      "         226       1.00      1.00      1.00         1\n",
      "         227       1.00      0.60      0.75         5\n",
      "         228       0.00      0.00      0.00         1\n",
      "         229       0.00      0.00      0.00         3\n",
      "         230       0.83      0.83      0.83         6\n",
      "         231       1.00      1.00      1.00         2\n",
      "         232       1.00      1.00      1.00         1\n",
      "         233       1.00      1.00      1.00         2\n",
      "         234       0.33      0.33      0.33         3\n",
      "         235       1.00      1.00      1.00         1\n",
      "         236       1.00      0.80      0.89         5\n",
      "         237       0.00      0.00      0.00         2\n",
      "         238       0.00      0.00      0.00         2\n",
      "         239       1.00      0.33      0.50         3\n",
      "         240       1.00      0.67      0.80         3\n",
      "         241       0.60      1.00      0.75         3\n",
      "         242       0.43      0.75      0.55         4\n",
      "         243       0.67      0.67      0.67         6\n",
      "         244       1.00      0.20      0.33         5\n",
      "         245       0.00      0.00      0.00         2\n",
      "         246       0.17      0.50      0.25         2\n",
      "         247       1.00      1.00      1.00         3\n",
      "         248       1.00      1.00      1.00         6\n",
      "         250       0.75      1.00      0.86         3\n",
      "\n",
      "   micro avg       0.70      0.70      0.70       250\n",
      "   macro avg       0.72      0.71      0.67       250\n",
      "weighted avg       0.78      0.70      0.70       250\n",
      "\n"
     ]
    }
   ],
   "source": [
    "#Make Predictions with NaiveBayes\n",
    "NB = GaussianNB()\n",
    "NB.fit(X_train, Y_train)\n",
    "predictions = NB.predict(X_test)\n",
    "predAccuracy = accuracy_score(Y_test,predictions)\n",
    "print('Accuracy: %.3f' % predAccuracy)\n",
    "print(confusion_matrix(Y_test, predictions))\n",
    "print(classification_report(Y_test, predictions))"
   ]
  },
  {
   "cell_type": "code",
   "execution_count": 38,
   "metadata": {},
   "outputs": [
    {
     "name": "stdout",
     "output_type": "stream",
     "text": [
      "Accuracy: 0.652\n",
      "[[2 0 0 ... 0 0 0]\n",
      " [1 2 2 ... 0 0 0]\n",
      " [0 0 2 ... 0 0 0]\n",
      " ...\n",
      " [0 0 0 ... 2 1 0]\n",
      " [0 0 0 ... 0 5 0]\n",
      " [0 0 0 ... 0 0 3]]\n",
      "              precision    recall  f1-score   support\n",
      "\n",
      "           2       0.67      0.40      0.50         5\n",
      "           3       1.00      0.40      0.57         5\n",
      "           4       0.50      1.00      0.67         2\n",
      "           5       1.00      1.00      1.00         2\n",
      "           6       1.00      1.00      1.00         1\n",
      "           7       1.00      1.00      1.00         2\n",
      "           8       0.50      1.00      0.67         1\n",
      "           9       0.50      0.67      0.57         3\n",
      "          10       1.00      1.00      1.00         1\n",
      "          15       1.00      0.88      0.93         8\n",
      "          16       0.50      0.20      0.29         5\n",
      "          17       0.67      0.67      0.67         3\n",
      "          18       0.80      0.80      0.80         5\n",
      "          22       0.43      1.00      0.60         3\n",
      "          26       0.50      1.00      0.67         1\n",
      "          27       1.00      1.00      1.00         2\n",
      "          28       0.67      1.00      0.80         4\n",
      "          29       1.00      1.00      1.00         2\n",
      "         101       0.40      0.67      0.50         3\n",
      "         102       0.00      0.00      0.00         3\n",
      "         103       0.83      0.71      0.77         7\n",
      "         104       1.00      1.00      1.00         6\n",
      "         105       0.33      1.00      0.50         1\n",
      "         106       0.75      0.75      0.75         4\n",
      "         107       0.75      0.60      0.67         5\n",
      "         108       1.00      0.67      0.80         3\n",
      "         109       0.00      0.00      0.00         0\n",
      "         110       0.00      0.00      0.00         0\n",
      "         111       1.00      0.75      0.86         4\n",
      "         112       0.50      0.67      0.57         3\n",
      "         117       1.00      1.00      1.00         3\n",
      "         121       0.00      0.00      0.00         1\n",
      "         122       0.00      0.00      0.00         0\n",
      "         201       1.00      0.44      0.62         9\n",
      "         202       0.75      1.00      0.86         3\n",
      "         203       0.50      0.50      0.50         2\n",
      "         204       0.33      0.50      0.40         2\n",
      "         205       1.00      0.67      0.80         3\n",
      "         206       1.00      0.50      0.67         2\n",
      "         207       0.00      0.00      0.00         0\n",
      "         208       0.20      1.00      0.33         1\n",
      "         209       1.00      0.25      0.40         4\n",
      "         210       0.00      0.00      0.00         2\n",
      "         211       0.67      0.67      0.67         3\n",
      "         212       0.50      1.00      0.67         1\n",
      "         213       1.00      0.25      0.40         4\n",
      "         214       0.50      1.00      0.67         2\n",
      "         215       0.50      0.50      0.50         2\n",
      "         216       1.00      0.12      0.22         8\n",
      "         217       1.00      0.57      0.73         7\n",
      "         218       0.25      1.00      0.40         1\n",
      "         219       0.17      1.00      0.29         1\n",
      "         220       1.00      1.00      1.00         3\n",
      "         221       0.50      0.50      0.50         2\n",
      "         222       0.33      0.67      0.44         3\n",
      "         223       1.00      0.50      0.67         8\n",
      "         224       1.00      0.75      0.86         4\n",
      "         225       0.00      0.00      0.00         1\n",
      "         226       1.00      1.00      1.00         1\n",
      "         227       0.67      0.40      0.50         5\n",
      "         228       1.00      1.00      1.00         1\n",
      "         229       0.67      0.67      0.67         3\n",
      "         230       0.86      1.00      0.92         6\n",
      "         231       1.00      0.50      0.67         2\n",
      "         232       0.00      0.00      0.00         1\n",
      "         233       0.50      0.50      0.50         2\n",
      "         234       0.60      1.00      0.75         3\n",
      "         235       1.00      1.00      1.00         1\n",
      "         236       0.67      0.80      0.73         5\n",
      "         237       1.00      0.50      0.67         2\n",
      "         238       0.50      0.50      0.50         2\n",
      "         239       0.33      0.33      0.33         3\n",
      "         240       1.00      0.67      0.80         3\n",
      "         241       0.67      0.67      0.67         3\n",
      "         242       0.57      1.00      0.73         4\n",
      "         243       1.00      0.83      0.91         6\n",
      "         244       0.00      0.00      0.00         5\n",
      "         245       0.33      0.50      0.40         2\n",
      "         246       0.40      1.00      0.57         2\n",
      "         247       1.00      0.67      0.80         3\n",
      "         248       0.83      0.83      0.83         6\n",
      "         250       0.43      1.00      0.60         3\n",
      "\n",
      "   micro avg       0.65      0.65      0.65       250\n",
      "   macro avg       0.64      0.65      0.60       250\n",
      "weighted avg       0.75      0.65      0.65       250\n",
      "\n"
     ]
    }
   ],
   "source": [
    "#Make Predictions with LDA\n",
    "LDA = LinearDiscriminantAnalysis()\n",
    "LDA.fit(X_train, Y_train)\n",
    "predictions = LDA.predict(X_test)\n",
    "predAccuracy = accuracy_score(Y_test,predictions)\n",
    "print('Accuracy: %.3f' % predAccuracy)\n",
    "print(confusion_matrix(Y_test, predictions))\n",
    "print(classification_report(Y_test, predictions))"
   ]
  },
  {
   "cell_type": "code",
   "execution_count": 37,
   "metadata": {},
   "outputs": [
    {
     "name": "stdout",
     "output_type": "stream",
     "text": [
      "Accuracy: 0.708\n",
      "[[4 0 0 ... 0 0 0]\n",
      " [1 0 1 ... 0 0 0]\n",
      " [0 0 2 ... 0 0 0]\n",
      " ...\n",
      " [0 0 0 ... 2 0 0]\n",
      " [0 0 0 ... 0 3 0]\n",
      " [0 0 0 ... 0 0 2]]\n",
      "              precision    recall  f1-score   support\n",
      "\n",
      "           2       0.80      0.80      0.80         5\n",
      "           3       0.00      0.00      0.00         5\n",
      "           4       0.67      1.00      0.80         2\n",
      "           5       0.67      1.00      0.80         2\n",
      "           6       1.00      1.00      1.00         1\n",
      "           7       1.00      1.00      1.00         2\n",
      "           8       0.20      1.00      0.33         1\n",
      "           9       1.00      0.67      0.80         3\n",
      "          10       0.50      1.00      0.67         1\n",
      "          15       1.00      0.75      0.86         8\n",
      "          16       0.80      0.80      0.80         5\n",
      "          17       1.00      0.67      0.80         3\n",
      "          18       0.80      0.80      0.80         5\n",
      "          22       1.00      1.00      1.00         3\n",
      "          26       1.00      1.00      1.00         1\n",
      "          27       0.50      0.50      0.50         2\n",
      "          28       0.80      1.00      0.89         4\n",
      "          29       0.50      1.00      0.67         2\n",
      "         101       0.75      1.00      0.86         3\n",
      "         102       1.00      0.33      0.50         3\n",
      "         103       0.88      1.00      0.93         7\n",
      "         104       1.00      1.00      1.00         6\n",
      "         105       1.00      1.00      1.00         1\n",
      "         106       1.00      1.00      1.00         4\n",
      "         107       1.00      1.00      1.00         5\n",
      "         108       0.67      0.67      0.67         3\n",
      "         109       0.00      0.00      0.00         0\n",
      "         111       1.00      0.25      0.40         4\n",
      "         112       1.00      1.00      1.00         3\n",
      "         117       1.00      1.00      1.00         3\n",
      "         121       0.00      0.00      0.00         1\n",
      "         122       0.00      0.00      0.00         0\n",
      "         201       0.67      0.44      0.53         9\n",
      "         202       0.50      0.67      0.57         3\n",
      "         203       0.25      0.50      0.33         2\n",
      "         204       1.00      0.50      0.67         2\n",
      "         205       1.00      0.33      0.50         3\n",
      "         206       1.00      1.00      1.00         2\n",
      "         207       0.00      0.00      0.00         0\n",
      "         208       1.00      1.00      1.00         1\n",
      "         209       1.00      0.50      0.67         4\n",
      "         210       1.00      1.00      1.00         2\n",
      "         211       1.00      0.67      0.80         3\n",
      "         212       1.00      1.00      1.00         1\n",
      "         213       1.00      0.75      0.86         4\n",
      "         214       0.50      1.00      0.67         2\n",
      "         215       1.00      1.00      1.00         2\n",
      "         216       1.00      0.75      0.86         8\n",
      "         217       1.00      0.86      0.92         7\n",
      "         218       0.00      0.00      0.00         1\n",
      "         219       1.00      1.00      1.00         1\n",
      "         220       0.50      0.33      0.40         3\n",
      "         221       0.29      1.00      0.44         2\n",
      "         222       1.00      0.67      0.80         3\n",
      "         223       1.00      0.62      0.77         8\n",
      "         224       0.75      0.75      0.75         4\n",
      "         225       0.00      0.00      0.00         1\n",
      "         226       0.00      0.00      0.00         1\n",
      "         227       0.40      0.40      0.40         5\n",
      "         228       0.50      1.00      0.67         1\n",
      "         229       0.67      0.67      0.67         3\n",
      "         230       0.86      1.00      0.92         6\n",
      "         231       1.00      1.00      1.00         2\n",
      "         232       0.33      1.00      0.50         1\n",
      "         233       1.00      0.50      0.67         2\n",
      "         234       1.00      0.67      0.80         3\n",
      "         235       0.50      1.00      0.67         1\n",
      "         236       0.80      0.80      0.80         5\n",
      "         237       0.50      0.50      0.50         2\n",
      "         238       0.00      0.00      0.00         2\n",
      "         239       1.00      0.33      0.50         3\n",
      "         240       0.75      1.00      0.86         3\n",
      "         241       1.00      0.67      0.80         3\n",
      "         242       0.80      1.00      0.89         4\n",
      "         243       1.00      0.83      0.91         6\n",
      "         244       1.00      0.20      0.33         5\n",
      "         245       0.00      0.00      0.00         2\n",
      "         246       0.25      0.50      0.33         2\n",
      "         247       1.00      0.67      0.80         3\n",
      "         248       1.00      0.50      0.67         6\n",
      "         250       0.29      0.67      0.40         3\n",
      "\n",
      "   micro avg       0.71      0.71      0.71       250\n",
      "   macro avg       0.71      0.68      0.66       250\n",
      "weighted avg       0.81      0.71      0.72       250\n",
      "\n"
     ]
    }
   ],
   "source": [
    "RF = RandomForestClassifier()\n",
    "RF.fit(X_train, Y_train)\n",
    "predictions = RF.predict(X_test)\n",
    "predAccuracy = accuracy_score(Y_test,predictions)\n",
    "print('Accuracy: %.3f' % predAccuracy)\n",
    "print(confusion_matrix(Y_test, predictions))\n",
    "print(classification_report(Y_test, predictions))"
   ]
  },
  {
   "cell_type": "code",
   "execution_count": 40,
   "metadata": {},
   "outputs": [
    {
     "name": "stdout",
     "output_type": "stream",
     "text": [
      "Kappa: 0.647\n",
      "[[2 0 0 ... 0 0 0]\n",
      " [1 2 2 ... 0 0 0]\n",
      " [0 0 2 ... 0 0 0]\n",
      " ...\n",
      " [0 0 0 ... 2 1 0]\n",
      " [0 0 0 ... 0 5 0]\n",
      " [0 0 0 ... 0 0 3]]\n",
      "              precision    recall  f1-score   support\n",
      "\n",
      "           2       0.67      0.40      0.50         5\n",
      "           3       1.00      0.40      0.57         5\n",
      "           4       0.50      1.00      0.67         2\n",
      "           5       1.00      1.00      1.00         2\n",
      "           6       1.00      1.00      1.00         1\n",
      "           7       1.00      1.00      1.00         2\n",
      "           8       0.50      1.00      0.67         1\n",
      "           9       0.50      0.67      0.57         3\n",
      "          10       1.00      1.00      1.00         1\n",
      "          15       1.00      0.88      0.93         8\n",
      "          16       0.50      0.20      0.29         5\n",
      "          17       0.67      0.67      0.67         3\n",
      "          18       0.80      0.80      0.80         5\n",
      "          22       0.43      1.00      0.60         3\n",
      "          26       0.50      1.00      0.67         1\n",
      "          27       1.00      1.00      1.00         2\n",
      "          28       0.67      1.00      0.80         4\n",
      "          29       1.00      1.00      1.00         2\n",
      "         101       0.40      0.67      0.50         3\n",
      "         102       0.00      0.00      0.00         3\n",
      "         103       0.83      0.71      0.77         7\n",
      "         104       1.00      1.00      1.00         6\n",
      "         105       0.33      1.00      0.50         1\n",
      "         106       0.75      0.75      0.75         4\n",
      "         107       0.75      0.60      0.67         5\n",
      "         108       1.00      0.67      0.80         3\n",
      "         109       0.00      0.00      0.00         0\n",
      "         110       0.00      0.00      0.00         0\n",
      "         111       1.00      0.75      0.86         4\n",
      "         112       0.50      0.67      0.57         3\n",
      "         117       1.00      1.00      1.00         3\n",
      "         121       0.00      0.00      0.00         1\n",
      "         122       0.00      0.00      0.00         0\n",
      "         201       1.00      0.44      0.62         9\n",
      "         202       0.75      1.00      0.86         3\n",
      "         203       0.50      0.50      0.50         2\n",
      "         204       0.33      0.50      0.40         2\n",
      "         205       1.00      0.67      0.80         3\n",
      "         206       1.00      0.50      0.67         2\n",
      "         207       0.00      0.00      0.00         0\n",
      "         208       0.20      1.00      0.33         1\n",
      "         209       1.00      0.25      0.40         4\n",
      "         210       0.00      0.00      0.00         2\n",
      "         211       0.67      0.67      0.67         3\n",
      "         212       0.50      1.00      0.67         1\n",
      "         213       1.00      0.25      0.40         4\n",
      "         214       0.50      1.00      0.67         2\n",
      "         215       0.50      0.50      0.50         2\n",
      "         216       1.00      0.12      0.22         8\n",
      "         217       1.00      0.57      0.73         7\n",
      "         218       0.25      1.00      0.40         1\n",
      "         219       0.17      1.00      0.29         1\n",
      "         220       1.00      1.00      1.00         3\n",
      "         221       0.50      0.50      0.50         2\n",
      "         222       0.33      0.67      0.44         3\n",
      "         223       1.00      0.50      0.67         8\n",
      "         224       1.00      0.75      0.86         4\n",
      "         225       0.00      0.00      0.00         1\n",
      "         226       1.00      1.00      1.00         1\n",
      "         227       0.67      0.40      0.50         5\n",
      "         228       1.00      1.00      1.00         1\n",
      "         229       0.67      0.67      0.67         3\n",
      "         230       0.86      1.00      0.92         6\n",
      "         231       1.00      0.50      0.67         2\n",
      "         232       0.00      0.00      0.00         1\n",
      "         233       0.50      0.50      0.50         2\n",
      "         234       0.60      1.00      0.75         3\n",
      "         235       1.00      1.00      1.00         1\n",
      "         236       0.67      0.80      0.73         5\n",
      "         237       1.00      0.50      0.67         2\n",
      "         238       0.50      0.50      0.50         2\n",
      "         239       0.33      0.33      0.33         3\n",
      "         240       1.00      0.67      0.80         3\n",
      "         241       0.67      0.67      0.67         3\n",
      "         242       0.57      1.00      0.73         4\n",
      "         243       1.00      0.83      0.91         6\n",
      "         244       0.00      0.00      0.00         5\n",
      "         245       0.33      0.50      0.40         2\n",
      "         246       0.40      1.00      0.57         2\n",
      "         247       1.00      0.67      0.80         3\n",
      "         248       0.83      0.83      0.83         6\n",
      "         250       0.43      1.00      0.60         3\n",
      "\n",
      "   micro avg       0.65      0.65      0.65       250\n",
      "   macro avg       0.64      0.65      0.60       250\n",
      "weighted avg       0.75      0.65      0.65       250\n",
      "\n"
     ]
    }
   ],
   "source": [
    "LDA = LinearDiscriminantAnalysis()\n",
    "LDA.fit(X_train, Y_train)\n",
    "predictions = LDA.predict(X_test)\n",
    "predKappa = cohen_kappa_score(Y_test,predictions)\n",
    "print('Kappa: %.3f' % predKappa)\n",
    "print(confusion_matrix(Y_test, predictions))\n",
    "print(classification_report(Y_test, predictions))"
   ]
  },
  {
   "cell_type": "code",
   "execution_count": 44,
   "metadata": {},
   "outputs": [
    {
     "name": "stdout",
     "output_type": "stream",
     "text": [
      "Kappa: 0.695\n",
      "[[4 0 0 ... 0 0 0]\n",
      " [1 3 0 ... 0 0 0]\n",
      " [1 0 1 ... 0 0 0]\n",
      " ...\n",
      " [0 0 0 ... 3 0 0]\n",
      " [0 0 0 ... 0 6 0]\n",
      " [0 0 0 ... 0 0 3]]\n",
      "              precision    recall  f1-score   support\n",
      "\n",
      "           2       0.67      0.80      0.73         5\n",
      "           3       1.00      0.60      0.75         5\n",
      "           4       1.00      0.50      0.67         2\n",
      "           5       1.00      1.00      1.00         2\n",
      "           6       0.00      0.00      0.00         1\n",
      "           7       0.67      1.00      0.80         2\n",
      "           8       0.50      1.00      0.67         1\n",
      "           9       1.00      0.67      0.80         3\n",
      "          10       1.00      1.00      1.00         1\n",
      "          15       1.00      0.50      0.67         8\n",
      "          16       0.57      0.80      0.67         5\n",
      "          17       0.75      1.00      0.86         3\n",
      "          18       0.83      1.00      0.91         5\n",
      "          22       1.00      1.00      1.00         3\n",
      "          26       1.00      1.00      1.00         1\n",
      "          27       1.00      1.00      1.00         2\n",
      "          28       1.00      0.50      0.67         4\n",
      "          29       0.33      1.00      0.50         2\n",
      "         101       0.40      0.67      0.50         3\n",
      "         102       1.00      0.33      0.50         3\n",
      "         103       1.00      0.71      0.83         7\n",
      "         104       1.00      1.00      1.00         6\n",
      "         105       0.33      1.00      0.50         1\n",
      "         106       0.75      0.75      0.75         4\n",
      "         107       1.00      0.60      0.75         5\n",
      "         108       0.60      1.00      0.75         3\n",
      "         111       1.00      0.75      0.86         4\n",
      "         112       0.75      1.00      0.86         3\n",
      "         117       1.00      1.00      1.00         3\n",
      "         121       0.00      0.00      0.00         1\n",
      "         122       0.00      0.00      0.00         0\n",
      "         201       0.50      0.56      0.53         9\n",
      "         202       0.50      0.67      0.57         3\n",
      "         203       0.67      1.00      0.80         2\n",
      "         204       1.00      0.50      0.67         2\n",
      "         205       1.00      0.33      0.50         3\n",
      "         206       1.00      1.00      1.00         2\n",
      "         208       1.00      1.00      1.00         1\n",
      "         209       1.00      0.25      0.40         4\n",
      "         210       0.50      0.50      0.50         2\n",
      "         211       0.50      0.67      0.57         3\n",
      "         212       1.00      1.00      1.00         1\n",
      "         213       1.00      0.50      0.67         4\n",
      "         214       0.67      1.00      0.80         2\n",
      "         215       0.18      1.00      0.31         2\n",
      "         216       1.00      0.62      0.77         8\n",
      "         217       0.88      1.00      0.93         7\n",
      "         218       1.00      1.00      1.00         1\n",
      "         219       0.50      1.00      0.67         1\n",
      "         220       0.50      0.33      0.40         3\n",
      "         221       1.00      1.00      1.00         2\n",
      "         222       0.75      1.00      0.86         3\n",
      "         223       0.50      0.62      0.56         8\n",
      "         224       1.00      0.50      0.67         4\n",
      "         225       0.50      1.00      0.67         1\n",
      "         226       1.00      1.00      1.00         1\n",
      "         227       1.00      0.60      0.75         5\n",
      "         228       0.00      0.00      0.00         1\n",
      "         229       0.00      0.00      0.00         3\n",
      "         230       0.83      0.83      0.83         6\n",
      "         231       1.00      1.00      1.00         2\n",
      "         232       1.00      1.00      1.00         1\n",
      "         233       1.00      1.00      1.00         2\n",
      "         234       0.33      0.33      0.33         3\n",
      "         235       1.00      1.00      1.00         1\n",
      "         236       1.00      0.80      0.89         5\n",
      "         237       0.00      0.00      0.00         2\n",
      "         238       0.00      0.00      0.00         2\n",
      "         239       1.00      0.33      0.50         3\n",
      "         240       1.00      0.67      0.80         3\n",
      "         241       0.60      1.00      0.75         3\n",
      "         242       0.43      0.75      0.55         4\n",
      "         243       0.67      0.67      0.67         6\n",
      "         244       1.00      0.20      0.33         5\n",
      "         245       0.00      0.00      0.00         2\n",
      "         246       0.17      0.50      0.25         2\n",
      "         247       1.00      1.00      1.00         3\n",
      "         248       1.00      1.00      1.00         6\n",
      "         250       0.75      1.00      0.86         3\n",
      "\n",
      "   micro avg       0.70      0.70      0.70       250\n",
      "   macro avg       0.72      0.71      0.67       250\n",
      "weighted avg       0.78      0.70      0.70       250\n",
      "\n"
     ]
    }
   ],
   "source": [
    "NB = GaussianNB()\n",
    "NB.fit(X_train, Y_train)\n",
    "predictions = NB.predict(X_test)\n",
    "predKappa = cohen_kappa_score(Y_test,predictions)\n",
    "print('Kappa: %.3f' % predKappa)\n",
    "print(confusion_matrix(Y_test, predictions))\n",
    "print(classification_report(Y_test, predictions))"
   ]
  },
  {
   "cell_type": "code",
   "execution_count": 42,
   "metadata": {},
   "outputs": [
    {
     "name": "stdout",
     "output_type": "stream",
     "text": [
      "Kappa: 0.764\n",
      "[[5 0 0 ... 0 0 0]\n",
      " [0 5 0 ... 0 0 0]\n",
      " [0 0 2 ... 0 0 0]\n",
      " ...\n",
      " [0 0 0 ... 3 0 0]\n",
      " [0 0 0 ... 0 3 0]\n",
      " [0 0 0 ... 0 0 2]]\n",
      "              precision    recall  f1-score   support\n",
      "\n",
      "           2       1.00      1.00      1.00         5\n",
      "           3       1.00      1.00      1.00         5\n",
      "           4       1.00      1.00      1.00         2\n",
      "           5       1.00      1.00      1.00         2\n",
      "           6       1.00      1.00      1.00         1\n",
      "           7       1.00      1.00      1.00         2\n",
      "           8       0.50      1.00      0.67         1\n",
      "           9       1.00      0.67      0.80         3\n",
      "          10       0.50      1.00      0.67         1\n",
      "          15       1.00      0.75      0.86         8\n",
      "          16       1.00      0.80      0.89         5\n",
      "          17       0.75      1.00      0.86         3\n",
      "          18       1.00      0.80      0.89         5\n",
      "          22       1.00      1.00      1.00         3\n",
      "          26       1.00      1.00      1.00         1\n",
      "          27       0.50      0.50      0.50         2\n",
      "          28       0.75      0.75      0.75         4\n",
      "          29       0.50      1.00      0.67         2\n",
      "         101       0.60      1.00      0.75         3\n",
      "         102       1.00      0.67      0.80         3\n",
      "         103       1.00      0.86      0.92         7\n",
      "         104       1.00      1.00      1.00         6\n",
      "         105       1.00      1.00      1.00         1\n",
      "         106       1.00      1.00      1.00         4\n",
      "         107       1.00      1.00      1.00         5\n",
      "         108       1.00      1.00      1.00         3\n",
      "         109       0.00      0.00      0.00         0\n",
      "         110       0.00      0.00      0.00         0\n",
      "         111       1.00      0.25      0.40         4\n",
      "         112       0.75      1.00      0.86         3\n",
      "         117       1.00      1.00      1.00         3\n",
      "         121       0.00      0.00      0.00         1\n",
      "         122       0.00      0.00      0.00         0\n",
      "         201       0.83      0.56      0.67         9\n",
      "         202       1.00      0.67      0.80         3\n",
      "         203       0.29      1.00      0.44         2\n",
      "         204       1.00      1.00      1.00         2\n",
      "         205       1.00      0.67      0.80         3\n",
      "         206       1.00      1.00      1.00         2\n",
      "         207       0.00      0.00      0.00         0\n",
      "         208       0.50      1.00      0.67         1\n",
      "         209       0.67      0.50      0.57         4\n",
      "         210       0.67      1.00      0.80         2\n",
      "         211       0.67      0.67      0.67         3\n",
      "         212       0.00      0.00      0.00         1\n",
      "         213       0.75      0.75      0.75         4\n",
      "         214       1.00      1.00      1.00         2\n",
      "         215       0.67      1.00      0.80         2\n",
      "         216       0.62      0.62      0.62         8\n",
      "         217       1.00      0.86      0.92         7\n",
      "         218       0.33      1.00      0.50         1\n",
      "         219       0.00      0.00      0.00         1\n",
      "         220       1.00      0.33      0.50         3\n",
      "         221       0.25      0.50      0.33         2\n",
      "         222       0.33      0.33      0.33         3\n",
      "         223       0.83      0.62      0.71         8\n",
      "         224       1.00      0.50      0.67         4\n",
      "         225       0.00      0.00      0.00         1\n",
      "         226       0.00      0.00      0.00         1\n",
      "         227       0.75      0.60      0.67         5\n",
      "         228       0.33      1.00      0.50         1\n",
      "         229       0.50      0.67      0.57         3\n",
      "         230       0.86      1.00      0.92         6\n",
      "         231       0.33      0.50      0.40         2\n",
      "         232       1.00      1.00      1.00         1\n",
      "         233       0.50      0.50      0.50         2\n",
      "         234       0.75      1.00      0.86         3\n",
      "         235       0.00      0.00      0.00         1\n",
      "         236       1.00      1.00      1.00         5\n",
      "         237       0.67      1.00      0.80         2\n",
      "         238       0.50      0.50      0.50         2\n",
      "         239       1.00      0.67      0.80         3\n",
      "         240       0.75      1.00      0.86         3\n",
      "         241       1.00      0.67      0.80         3\n",
      "         242       0.80      1.00      0.89         4\n",
      "         243       0.83      0.83      0.83         6\n",
      "         244       1.00      0.40      0.57         5\n",
      "         245       0.67      1.00      0.80         2\n",
      "         246       1.00      1.00      1.00         2\n",
      "         247       1.00      1.00      1.00         3\n",
      "         248       1.00      0.50      0.67         6\n",
      "         250       0.67      0.67      0.67         3\n",
      "\n",
      "   micro avg       0.77      0.77      0.77       250\n",
      "   macro avg       0.71      0.72      0.69       250\n",
      "weighted avg       0.83      0.77      0.77       250\n",
      "\n"
     ]
    }
   ],
   "source": [
    "RF = RandomForestClassifier()\n",
    "RF.fit(X_train, Y_train)\n",
    "predictions = RF.predict(X_test)\n",
    "predKappa = cohen_kappa_score(Y_test,predictions)\n",
    "print('Kappa: %.3f' % predKappa)\n",
    "print(confusion_matrix(Y_test, predictions))\n",
    "print(classification_report(Y_test, predictions))"
   ]
  },
  {
   "cell_type": "code",
   "execution_count": null,
   "metadata": {},
   "outputs": [],
   "source": []
  }
 ],
 "metadata": {
  "kernelspec": {
   "display_name": "Python 3",
   "language": "python",
   "name": "python3"
  },
  "language_info": {
   "codemirror_mode": {
    "name": "ipython",
    "version": 3
   },
   "file_extension": ".py",
   "mimetype": "text/x-python",
   "name": "python",
   "nbconvert_exporter": "python",
   "pygments_lexer": "ipython3",
   "version": "3.6.5"
  }
 },
 "nbformat": 4,
 "nbformat_minor": 2
}
